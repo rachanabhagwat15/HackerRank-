{
 "cells": [
  {
   "cell_type": "markdown",
   "metadata": {},
   "source": [
    "## Some solution of HakerRank "
   ]
  },
  {
   "cell_type": "markdown",
   "metadata": {},
   "source": [
    "WAP to check if the strings are anagram or not "
   ]
  },
  {
   "cell_type": "code",
   "execution_count": 2,
   "metadata": {},
   "outputs": [
    {
     "name": "stdout",
     "output_type": "stream",
     "text": [
      "Enter first string : rachana\n",
      "Enter the second string : bachana\n",
      "No it is not anagram \n"
     ]
    }
   ],
   "source": [
    "s1=input(\"Enter first string : \")\n",
    "s2=input(\"Enter the second string : \")\n",
    "def Ana(s1,s2):\n",
    "    if (sorted(s1))==(sorted(s2)):\n",
    "        print(\"Yes it is Anagram \")\n",
    "    else:\n",
    "        print(\"No it is not anagram \")\n",
    "        \n",
    "Ana(s1,s2)        "
   ]
  },
  {
   "cell_type": "markdown",
   "metadata": {},
   "source": [
    "WAP to write a program to check the year is leap or not"
   ]
  },
  {
   "cell_type": "code",
   "execution_count": 3,
   "metadata": {},
   "outputs": [
    {
     "name": "stdout",
     "output_type": "stream",
     "text": [
      "2000\n",
      "It is leap year\n",
      "None\n"
     ]
    }
   ],
   "source": [
    "def is_leap(year):\n",
    "    leap = False\n",
    "    \n",
    "    if (year%4)==0:\n",
    "        if (year%100)==0:\n",
    "            if (year%400)==0:\n",
    "                print(\"It is leap year\")\n",
    "            else:\n",
    "                print(leap)\n",
    "        else:\n",
    "            print(leap)        \n",
    "    else:\n",
    "        print(leap)     \n",
    "    \n",
    "    \n",
    "\n",
    "year = int(input())\n",
    "print(is_leap(year))"
   ]
  },
  {
   "cell_type": "code",
   "execution_count": 5,
   "metadata": {},
   "outputs": [
    {
     "name": "stdout",
     "output_type": "stream",
     "text": [
      "2000\n",
      "True\n"
     ]
    }
   ],
   "source": [
    "def is_leap(year):\n",
    "    leap = False\n",
    "    \n",
    "    if (year % 400) == 0:\n",
    "        leap = True\n",
    "    elif year % 4==0 and year % 100 !=0:\n",
    "        leap= True\n",
    "        \n",
    "    return leap    \n",
    "        \n",
    "        \n",
    "\n",
    "year = int(input())\n",
    "print(is_leap(year))"
   ]
  },
  {
   "cell_type": "markdown",
   "metadata": {},
   "source": [
    "If we want to add a single element to an existing set, we can use the .add() operation.\n",
    "It adds the element to the set and returns 'None'."
   ]
  },
  {
   "cell_type": "code",
   "execution_count": 22,
   "metadata": {},
   "outputs": [
    {
     "name": "stdout",
     "output_type": "stream",
     "text": [
      "7\n",
      "tt\n",
      "uu\n",
      "ii\n",
      "pp\n",
      "tt\n",
      "pp\n",
      "yy\n",
      "5\n"
     ]
    }
   ],
   "source": [
    "items = set()\n",
    "for i in range(int(input())):\n",
    "    items.add(input())\n",
    "print(len(items))"
   ]
  },
  {
   "cell_type": "markdown",
   "metadata": {},
   "source": [
    ".remove(x)\n",
    "\n",
    "This operation removes element x  from the set.\n",
    "\n",
    "If element x does not exist, it raises a KeyError.\n",
    "\n",
    "The .remove(x) operation returns None."
   ]
  },
  {
   "cell_type": "code",
   "execution_count": 27,
   "metadata": {},
   "outputs": [
    {
     "name": "stdout",
     "output_type": "stream",
     "text": [
      "9\n",
      "1 2 3 4 5 6 7 8 9\n",
      "10\n",
      "pop\n",
      "remove 9\n",
      "discard 9\n",
      "discard 8\n",
      "remove 7\n",
      "pop\n",
      "discard 6\n",
      "remove 5\n",
      "pop\n",
      "discard 5\n",
      "4\n"
     ]
    }
   ],
   "source": [
    "n = int(input())\n",
    "s = set(map(int,input().split()))\n",
    "num = int(input())\n",
    "for i in range(num):\n",
    "    ip = input().split()\n",
    "    if ip[0]==\"remove\":\n",
    "        s.remove(int(ip[1]))\n",
    "    elif ip[0]==\"discard\":\n",
    "        s.discard(int(ip[1]))\n",
    "    else :\n",
    "        s.pop()\n",
    "print(sum(list(s)))"
   ]
  },
  {
   "cell_type": "markdown",
   "metadata": {},
   "source": [
    ".union()\n",
    "\n",
    "The .union() operator returns the union of a set and the set of elements in an iterable.\n",
    "\n",
    "Sometimes, the | operator is used in place of .union() operator, but it operates only on the set of elements in set.\n",
    "\n",
    "Set is immutable to the .union() operation (or | operation)."
   ]
  },
  {
   "cell_type": "code",
   "execution_count": 30,
   "metadata": {},
   "outputs": [
    {
     "name": "stdout",
     "output_type": "stream",
     "text": [
      "{1, 2, 3, 4, 5, 6, 7, 8, 9, 11, 12, 44, 55}\n"
     ]
    }
   ],
   "source": [
    "s=set()\n",
    "s1=(1,2,3,4,5,6,7,8,9)\n",
    "s1=set(s1)\n",
    "s2=(11,12,1,2,3,44,55)\n",
    "s2=set(s2)\n",
    "s3=s1.union(s2)\n",
    "print(s3)"
   ]
  },
  {
   "cell_type": "code",
   "execution_count": 33,
   "metadata": {},
   "outputs": [
    {
     "name": "stdout",
     "output_type": "stream",
     "text": [
      "44 55 5 6 7 8\n",
      "22 33 44 55 7\n",
      "{'33', '55', '22', '6', '44', '7', '5', '8'}\n"
     ]
    }
   ],
   "source": [
    "s=set()\n",
    "s1=input()\n",
    "s1=s1.split(\" \")\n",
    "s1=set(s1)\n",
    "\n",
    "s2=input()\n",
    "s2=s2.split(\" \")\n",
    "\n",
    "s2=set(s2)\n",
    "s3=s1.union(s2)\n",
    "print(s3)"
   ]
  },
  {
   "cell_type": "code",
   "execution_count": 36,
   "metadata": {},
   "outputs": [
    {
     "name": "stdout",
     "output_type": "stream",
     "text": [
      "9\n",
      "1 2 3 4 5 6 7 8 9 \n",
      "9\n",
      "22 33 1 2 3 4 5 6 7\n",
      "11\n"
     ]
    }
   ],
   "source": [
    "e = input()\n",
    "el = set(map(int,input().split()))\n",
    "f = input()\n",
    "fl = set(map(int,input().split()))\n",
    "\n",
    "u = el.union(fl)\n",
    "\n",
    "\n",
    "\n",
    "print (len(u))"
   ]
  },
  {
   "cell_type": "markdown",
   "metadata": {},
   "source": [
    ".intersection()\n",
    "\n",
    "The .intersection() operator returns the intersection of a set and the set of elements in an iterable.\n",
    "\n",
    "Sometimes, the & operator is used in place of the .intersection() operator, but it only operates on the set of elements in set.\n",
    "\n",
    "The set is immutable to the .intersection() operation (or & operation)."
   ]
  },
  {
   "cell_type": "code",
   "execution_count": 39,
   "metadata": {},
   "outputs": [
    {
     "name": "stdout",
     "output_type": "stream",
     "text": [
      "9 \n",
      "1 2 3 4 5 6 7 8 9 \n",
      "9 \n",
      "99 88 77 66 5 4 3 2 1\n",
      "5\n"
     ]
    }
   ],
   "source": [
    "e = input()\n",
    "el = set(map(int,input().split()))\n",
    "f = input()\n",
    "fl = set(map(int,input().split()))\n",
    "\n",
    "u = el.intersection(fl)\n",
    "\n",
    "\n",
    "\n",
    "print (len(u))"
   ]
  },
  {
   "cell_type": "markdown",
   "metadata": {},
   "source": [
    ".difference()\n",
    "\n",
    "The tool .difference() returns a set with all the elements from the set that are not in an iterable.\n",
    "\n",
    "Sometimes the - operator is used in place of the .difference() tool, but it only operates on the set of elements in set.\n",
    "\n",
    "Set is immutable to the .difference() operation (or the - operation)."
   ]
  },
  {
   "cell_type": "code",
   "execution_count": 38,
   "metadata": {},
   "outputs": [
    {
     "name": "stdout",
     "output_type": "stream",
     "text": [
      "9\n",
      "1 2 3 4 5 6 7 8 9 \n",
      "9 \n",
      "88 77 66 55 44 4 3 2 1\n",
      "5\n"
     ]
    }
   ],
   "source": [
    "e = input()\n",
    "el = set(map(int,input().split()))\n",
    "f = input()\n",
    "fl = set(map(int,input().split()))\n",
    "\n",
    "u = el.difference(fl)\n",
    "\n",
    "\n",
    "\n",
    "print (len(u))"
   ]
  },
  {
   "cell_type": "code",
   "execution_count": null,
   "metadata": {},
   "outputs": [],
   "source": [
    "symmetric_difference"
   ]
  },
  {
   "cell_type": "code",
   "execution_count": 40,
   "metadata": {},
   "outputs": [
    {
     "name": "stdout",
     "output_type": "stream",
     "text": [
      "9 \n",
      "1 2 3 4 5 6 7 8 9 \n",
      "9\n",
      "7 8 9 66 55 44 3 2 1\n",
      "6\n"
     ]
    }
   ],
   "source": [
    "e = input()\n",
    "el = set(map(int,input().split()))\n",
    "f = input()\n",
    "fl = set(map(int,input().split()))\n",
    "\n",
    "u = el.symmetric_difference(fl)\n",
    "\n",
    "\n",
    "\n",
    "print (len(u))"
   ]
  },
  {
   "cell_type": "markdown",
   "metadata": {},
   "source": [
    "We have seen the applications of union, intersection, difference and symmetric difference operations, but these operations do not make any changes or mutations to the set.\n",
    "\n",
    "We can use the following operations to create mutations to a set:\n",
    "\n",
    ".update() or |=\n",
    "\n",
    "Update the set by adding elements from an iterable/another set."
   ]
  },
  {
   "cell_type": "code",
   "execution_count": 47,
   "metadata": {},
   "outputs": [
    {
     "name": "stdout",
     "output_type": "stream",
     "text": [
      "16\n",
      "1 2 3 4 5 6 7 8 9 10 11 12 13 14 24 52\n",
      "4\n",
      "intersection_update 10\n",
      "2 3 5 6 8 9 1 4 7 11\n",
      " update 2\n",
      "55 66\n",
      "symmetric_difference_update 5\n",
      "22 7 35 62 58\n",
      "difference_update 7\n",
      "11 22 35 55 58 62 66\n",
      "38\n"
     ]
    }
   ],
   "source": [
    "LA = input()\n",
    "A = set(map(int,input().split()))\n",
    "\n",
    "N =int(input())\n",
    "\n",
    "for i in range(N):\n",
    "\tk = input().split()\n",
    "\tktemp = set(map(int,input().split()))\n",
    "\tif k[0] == 'update':\n",
    "\t\tA.update(ktemp)\n",
    "\telif k[0] == 'intersection_update':\n",
    "\t\tA.intersection_update(ktemp)\n",
    "\telif k[0] == 'difference_update':\n",
    "\t\tA.difference_update(ktemp)\n",
    "\telif k[0] == 'symmetric_difference_update':\n",
    "\t\tA.symmetric_difference_update(ktemp)\n",
    "\telse:\n",
    "\t\tprint('Incorrect parameters')\n",
    "\n",
    "print(sum(A))"
   ]
  },
  {
   "cell_type": "code",
   "execution_count": null,
   "metadata": {},
   "outputs": [],
   "source": []
  },
  {
   "cell_type": "code",
   "execution_count": null,
   "metadata": {},
   "outputs": [],
   "source": []
  },
  {
   "cell_type": "code",
   "execution_count": 51,
   "metadata": {},
   "outputs": [
    {
     "name": "stdout",
     "output_type": "stream",
     "text": [
      "5\n",
      "1 2 3 6 5 4 4 2 5 3 6 1 6 5 3 2 4 1 2 5 1 4 3 6 8 4 3 1 5 6 2\n",
      "8\n"
     ]
    }
   ],
   "source": [
    "from collections import Counter\n",
    "\n",
    "n = input()\n",
    "b = input().split()\n",
    "\n",
    "k = Counter(b)\n",
    "\n",
    "d = dict(k)\n",
    "\n",
    "print(min(d, key=lambda k: d[k]))"
   ]
  },
  {
   "cell_type": "markdown",
   "metadata": {},
   "source": [
    "You are given two sets,  A and B.\n",
    "\n",
    "Your job is to find whether set A is a subset of set B .\n",
    "\n",
    "If set A is B subset of set , print True.\n",
    "\n",
    "If set A is B not a subset of set , print False."
   ]
  },
  {
   "cell_type": "code",
   "execution_count": 52,
   "metadata": {},
   "outputs": [
    {
     "name": "stdout",
     "output_type": "stream",
     "text": [
      "1\n",
      "1\n",
      "1\n",
      "1\n",
      "1\n",
      "True\n"
     ]
    }
   ],
   "source": [
    "for i in range(int(input())):\n",
    "    a = int(input()) \n",
    "    A = set(input().split())\n",
    "    b = int(input())\n",
    "    B = set(input().split())\n",
    "    if A.issubset(B) :\n",
    "        print('True')\n",
    "    else : \n",
    "        print('False')"
   ]
  },
  {
   "cell_type": "markdown",
   "metadata": {},
   "source": [
    "When users post an update on social media,such as a URL, image, status update etc., other users in their network are able to view this new post on their news feed. Users can also see exactly when the post was published, i.e, how many hours, minutes or seconds ago.\n",
    "\n",
    "Since sometimes posts are published and viewed in different time zones, this can be confusing. You are given two timestamps of one such post that a user can see on his newsfeed in the following format:\n",
    "\n",
    "Day dd Mon yyyy hh:mm:ss +xxxx\n",
    "\n",
    "Here +xxxx represents the time zone. Your task is to print the absolute difference (in seconds) between them."
   ]
  },
  {
   "cell_type": "code",
   "execution_count": null,
   "metadata": {},
   "outputs": [],
   "source": [
    "import sys\n",
    "stdin = sys.stdin\n",
    "\n",
    "n = int(stdin.readline())\n",
    "import datetime\n",
    "for i in range(n):\n",
    "    dt1 = datetime.datetime.strptime(stdin.readline().rstrip(), '%a %d %b %Y %H:%M:%S %z')\n",
    "    dt2 = datetime.datetime.strptime(stdin.readline().rstrip(), '%a %d %b %Y %H:%M:%S %z')\n",
    "    print(abs(int(((dt2-dt1).total_seconds()))))\n"
   ]
  },
  {
   "cell_type": "markdown",
   "metadata": {},
   "source": [
    "You are given  words. Some words may repeat. For each word, output its number of occurrences. The output order should correspond with the input order of appearance of the word. See the sample input/output for clarification.\n",
    "\n",
    "Note: Each input line ends with a \"\\n\" character.\n",
    "\n",
    "Constraints:\n",
    "\n",
    "The sum of the lengths of all the words do not exceed\n",
    "\n",
    "All the words are composed of lowercase English letters only.\n",
    "\n",
    "Input Format\n",
    "\n",
    "The first line contains the integer, .\n",
    "\n",
    "The next  lines each contain a word.\n",
    "\n",
    "Output Format\n",
    "\n",
    "Output  lines.\n",
    "\n",
    "On the first line, output the number of distinct words from the input.\n",
    "\n",
    "On the second line, output the number of occurrences for each distinct word according to their appearance in the input."
   ]
  },
  {
   "cell_type": "code",
   "execution_count": 1,
   "metadata": {},
   "outputs": [
    {
     "name": "stdout",
     "output_type": "stream",
     "text": [
      "4\n",
      "bcdef\n",
      " abcdefg \n",
      "bcde \n",
      "bcdef\n",
      "3\n",
      "2 1 1 "
     ]
    }
   ],
   "source": [
    "import collections;\n",
    "\n",
    "N = int(input())\n",
    "d = collections.OrderedDict()\n",
    "\n",
    "for i in range(N):\n",
    "    word = input()\n",
    "    if word in d:\n",
    "        d[word] +=1\n",
    "    else:\n",
    "        d[word] = 1\n",
    "\n",
    "print(len(d));\n",
    "\n",
    "for k,v in d.items():\n",
    "    print(v,end = \" \");"
   ]
  },
  {
   "cell_type": "code",
   "execution_count": null,
   "metadata": {},
   "outputs": [],
   "source": []
  },
  {
   "cell_type": "code",
   "execution_count": null,
   "metadata": {},
   "outputs": [],
   "source": []
  },
  {
   "cell_type": "code",
   "execution_count": null,
   "metadata": {},
   "outputs": [],
   "source": []
  },
  {
   "cell_type": "code",
   "execution_count": null,
   "metadata": {},
   "outputs": [],
   "source": []
  },
  {
   "cell_type": "code",
   "execution_count": null,
   "metadata": {},
   "outputs": [],
   "source": []
  },
  {
   "cell_type": "markdown",
   "metadata": {},
   "source": [
    "1# "
   ]
  }
 ],
 "metadata": {
  "kernelspec": {
   "display_name": "Python 3",
   "language": "python",
   "name": "python3"
  },
  "language_info": {
   "codemirror_mode": {
    "name": "ipython",
    "version": 3
   },
   "file_extension": ".py",
   "mimetype": "text/x-python",
   "name": "python",
   "nbconvert_exporter": "python",
   "pygments_lexer": "ipython3",
   "version": "3.8.3"
  }
 },
 "nbformat": 4,
 "nbformat_minor": 4
}
